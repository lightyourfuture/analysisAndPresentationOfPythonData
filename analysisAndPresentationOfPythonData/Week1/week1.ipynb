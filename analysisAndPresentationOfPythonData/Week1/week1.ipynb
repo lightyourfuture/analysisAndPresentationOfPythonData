{
 "cells": [
  {
   "cell_type": "markdown",
   "metadata": {},
   "source": [
    "Python 数据分析与展示\n",
    "\n",
    "# 第一周:数据分析之前奏\n",
    "\n",
    "## \"数据分析内容导学\"\n",
    "\n",
    "### 全课程内容导学\n",
    "\n",
    "摘要:有损地提取数据特征的过程\n",
    "\n",
    "- 基本统计(含排序)\n",
    "- 分布/累计统计\n",
    "- 数据特征:相关性,周期性等\n",
    "- 数据挖掘(形成知识)\n",
    "\n",
    "编程工具\n",
    "\n",
    "- 使用 Anaconda(IDE 集成开发工具)\n",
    "- 需要理解和掌握如下工具的使用\n",
    "- conda\n",
    "- Spyder\n",
    "- IPython\n",
    "\n",
    "内容组织\n",
    "\n",
    "- 坐标系的绘制\n",
    "- 极坐标图的绘制\n",
    "- 饼图的绘制\n",
    "- 散点图的绘制\n",
    "- 直方图的绘制\n",
    "\n",
    "内容组织\n",
    "\n",
    "- 实例 1:图像的手绘效果\n",
    "- 实例 2:引力波的绘制\n",
    "- 实例 3:房价趋势的关联因素分析\n",
    "- 实例 4:股票数据的趋势分析曲线"
   ]
  },
  {
   "cell_type": "markdown",
   "metadata": {},
   "source": [
    "## Python 语言开发工具选择\n",
    "\n",
    "- Sublime Text\n",
    "- Wing\n",
    "- Visual Studio & PTVS\n",
    "- Eclipse\n",
    "- PyDev\n",
    "- PyCharm\n",
    "- Canopy\n",
    "- Anaconda"
   ]
  },
  {
   "cell_type": "markdown",
   "metadata": {},
   "source": [
    "| 常用命令 | 说明 |\n",
    "|------------|------|\n",
    "| `%magic` | 显示所有魔术命令. |\n",
    "| `%hist` | 显示 IPython 命令的输入历史. |\n",
    "| `%pdb` | 异常发生后自动进入调试器. |\n",
    "| `%reset` | 删除当前命名空间中的全部变量或名称. |\n",
    "| `%who` | 显示 IPython 当前命名空间中已经定义的变量. |\n",
    "| `%time statement` | 给出代码的执行时间,`statement`表示一段代码. |\n",
    "| `%timeit statement` | 多次执行代码,计算综合平均执行时间. |"
   ]
  }
 ],
 "metadata": {
  "kernelspec": {
   "display_name": "base",
   "language": "python",
   "name": "python3"
  },
  "language_info": {
   "codemirror_mode": {
    "name": "ipython",
    "version": 3
   },
   "file_extension": ".py",
   "mimetype": "text/x-python",
   "name": "python",
   "nbconvert_exporter": "python",
   "pygments_lexer": "ipython3",
   "version": "3.11.5"
  }
 },
 "model": "gpt-3.5-turbo",
 "nbformat": 4,
 "nbformat_minor": 2
}
