{
 "cells": [
  {
   "cell_type": "markdown",
   "metadata": {},
   "source": [
    "# 第二周:数据分析之表示\n",
    "\n",
    "## Numpy 入门\n",
    "\n",
    "### 数据的维度"
   ]
  },
  {
   "cell_type": "markdown",
   "metadata": {},
   "source": [
    "### NumPy 的数组对象:ndarray\n",
    "\n",
    "NumPy\n",
    "\n",
    "- NumPy 是一个开源的 Python 科学计算基础库.\n",
    "- 一个强大的 N 维数组对象 ndarray\n",
    "- 广播功能函数\n",
    "- 整合 C/C++/Fortran 代码的工具线性代数,傅里叶变换,随机数生成等功能\n",
    "- NumPy 是 SciPy,Pandas 等数据处理或科学计算库的基础.\n",
    "\n",
    "N 维数组对象:ndarray\n",
    "\n",
    "- 数组对象可以去掉元素间运算所需的循环,使一维向量更像单个数据.\n",
    "- 设置专门的数组对象,经过优化,可以提升这类应用的运算速度.\n",
    "- 观察:科学计算中,一个维度所有数据的类型往往相同.\n",
    "- 数组对象采用相同的数据类型,有助于节省运算和存储空间.\n",
    "\n",
    "ndarray 是一个多维数组对象,由两部分构成\n",
    "\n",
    "- 实际的数据\n",
    "- 描述这些数据的元数据( 数据维度,数据类型等)\n",
    "- ndarray 数组一般要求所有元素类型相同(同质),数组下标从 0 开始.\n",
    "\n",
    "\n",
    "| 属性        | 说明                                               |\n",
    "| ----------- | -------------------------------------------------- |\n",
    "| `.ndim`     | 秩,即轴的数量或维度的数量.                         |\n",
    "| `.shape`    | ndarray 对象的尺度,对于矩阵,n 行 m 列.             |\n",
    "| `.size`     | ndarray 对象元素的个数,相当于`.shape`中 n\\*m 的值. |\n",
    "| `.dtype`    | ndarray 对象的元素类型.                            |\n",
    "| `.itemsize` | ndarray 对象中每个元素的大小,以字节为单位.         |"
   ]
  },
  {
   "cell_type": "code",
   "execution_count": 2,
   "metadata": {},
   "outputs": [],
   "source": [
    "import numpy as np\n",
    "a =np.array([[8,1,2,3,4],[9,8,7,6,5]])"
   ]
  },
  {
   "cell_type": "code",
   "execution_count": 3,
   "metadata": {},
   "outputs": [
    {
     "data": {
      "text/plain": [
       "2"
      ]
     },
     "execution_count": 3,
     "metadata": {},
     "output_type": "execute_result"
    }
   ],
   "source": [
    "a.ndim"
   ]
  },
  {
   "cell_type": "code",
   "execution_count": 4,
   "metadata": {},
   "outputs": [
    {
     "data": {
      "text/plain": [
       "(2, 5)"
      ]
     },
     "execution_count": 4,
     "metadata": {},
     "output_type": "execute_result"
    }
   ],
   "source": [
    "a.shape"
   ]
  },
  {
   "cell_type": "code",
   "execution_count": 5,
   "metadata": {},
   "outputs": [
    {
     "data": {
      "text/plain": [
       "10"
      ]
     },
     "execution_count": 5,
     "metadata": {},
     "output_type": "execute_result"
    }
   ],
   "source": [
    "a.size"
   ]
  },
  {
   "cell_type": "code",
   "execution_count": 6,
   "metadata": {},
   "outputs": [
    {
     "data": {
      "text/plain": [
       "dtype('int32')"
      ]
     },
     "execution_count": 6,
     "metadata": {},
     "output_type": "execute_result"
    }
   ],
   "source": [
    "a.dtype"
   ]
  },
  {
   "cell_type": "code",
   "execution_count": 7,
   "metadata": {},
   "outputs": [
    {
     "data": {
      "text/plain": [
       "4"
      ]
     },
     "execution_count": 7,
     "metadata": {},
     "output_type": "execute_result"
    }
   ],
   "source": [
    "a.itemsize"
   ]
  },
  {
   "cell_type": "markdown",
   "metadata": {},
   "source": [
    "ndarray 的元素类型\n",
    "| 数据类型 | 说明 |\n",
    "|-------------|------|\n",
    "| `bool` | 布尔类型,True 或 False. |\n",
    "| `int` | 与 C 语言中的 int 类型一致,一般是 int32 或 int64. |\n",
    "| `intp` | 用于索引的整数,与 C 语言中 ssize_t 一致,int32 或 int64. |\n",
    "| `int8` | 字节长度的整数,取值:[-128, 127]. |\n",
    "| `int16` | 16 位长度的整数,取值:[-32768, 32767]. |\n",
    "| `int32` | 32 位长度的整数,取值:[-2^31, 2^31 - 1]. |\n",
    "| `int64` | 64 位长度的整数,取值:[-2^63, 2^63 - 1]. |\n",
    "| `uint8` | 8 位无符号整数,取值:[0, 255]. |\n",
    "| `uint16` | 16 位无符号整数,取值:[0, 65535]. |\n",
    "| `uint32` | 32 位无符号整数,取值:[0, 2^32 - 1]. |\n",
    "| `uint64` | 64 位无符号整数,取值:[0, 2^64 - 1]. |\n",
    "| `float16` | 16 位半精度浮点数:1 位符号位,5 位指数,10 位尾数. |\n",
    "| `float32` | 32 位单精度浮点数:1 位符号位,8 位指数,23 位尾数. |\n",
    "| `float64` | 64 位双精度浮点数:1 位符号位,11 位指数,52 位尾数. |\n",
    "| `complex64` | 复数类型,实部和虚部都是 32 位浮点数. |\n",
    "| `complex128`| 复数类型,实部和虚部都是 64 位浮点数. |\n",
    "\n",
    "对比:Python 语法仅支持整数,浮点数和复数 3 种类型\n",
    "\n",
    "- 科学计算涉及数据较多,对存储和性能都有较高要求.\n",
    "- 对元素类型精细定义,有助于 NumPy 合理使用存储空间并优化性能.\n",
    "- 对元素类型精细定义,有助于程序员对程序规模有合理评估.\n"
   ]
  },
  {
   "cell_type": "markdown",
   "metadata": {},
   "source": [
    "### ndarray数组的创建和变换\n",
    "ndarray数组的创建方法\n",
    "\n",
    "- 从Python中的列表,元组等类型创建ndarray数组.\n",
    "- 使用NumPy中函数创建ndarray数组,如:arange,ones, zeros等.\n",
    "- 从字节流(rawbytes)中创建ndarray数组.\n",
    "- 从文件中读取特定格式,创建ndarray数组."
   ]
  },
  {
   "cell_type": "markdown",
   "metadata": {},
   "source": [
    "#### 从列表类型创建"
   ]
  },
  {
   "cell_type": "code",
   "execution_count": 8,
   "metadata": {},
   "outputs": [
    {
     "name": "stdout",
     "output_type": "stream",
     "text": [
      "[ 1  2  3  4  5  6  7  8  9 10]\n"
     ]
    }
   ],
   "source": [
    "x = np.array([1,2,3,4,5,6,7,8,9,10])\n",
    "print(x)"
   ]
  },
  {
   "cell_type": "markdown",
   "metadata": {},
   "source": [
    "#### 从元组类型创建"
   ]
  },
  {
   "cell_type": "code",
   "execution_count": 9,
   "metadata": {},
   "outputs": [
    {
     "name": "stdout",
     "output_type": "stream",
     "text": [
      "[ 1  2  3  4  5  6  7  8  9 10]\n"
     ]
    }
   ],
   "source": [
    "x = np.array((1,2,3,4,5,6,7,8,9,10))\n",
    "print(x)"
   ]
  },
  {
   "cell_type": "markdown",
   "metadata": {},
   "source": [
    "#### 从列表和元组混合类型创建"
   ]
  },
  {
   "cell_type": "code",
   "execution_count": 10,
   "metadata": {},
   "outputs": [
    {
     "name": "stdout",
     "output_type": "stream",
     "text": [
      "[[1 2]\n",
      " [3 4]\n",
      " [5 6]]\n"
     ]
    }
   ],
   "source": [
    "x = np.array([[1,2],[3,4],(5,6)])\n",
    "print(x)"
   ]
  },
  {
   "cell_type": "markdown",
   "metadata": {},
   "source": [
    "#### 使用 NumPy 中函数创建 ndarray 数组,如:arange,ones, zeros 等.\n",
    "\n",
    "| 函数                                  | 说明                                                    |\n",
    "| ------------------------------------- | ------------------------------------------------------- |\n",
    "| `np.arange(n)`                        | 类似 `range` 函数, 返回 `ndarray` 类型, 元素从 0 到 n-1 |\n",
    "| `np.ones(shape)`                      | 根据 `shape` 生成一个全 1 数组, `shape` 是元组类型      |\n",
    "| `np.zeros(shape)`                     | 根据 `shape` 生成一个全 0 数组, `shape` 是元组类型      |\n",
    "| `np.full(shape, val)`                 | 根据 `shape` 生成一个数组, 每个元素值都是 `val`         |\n",
    "| `np.eye(n)`                           | 创建一个正方的 n\\*n 单位矩阵, 对角线为 1, 其余为 0      |\n",
    "| `np.ones_like(a)`                     | 根据数组 a 的形状生成一个全 1 数组                      |\n",
    "| `np.zeros_like(a)`                    | 根据数组 a 的形状生成一个全 0 数组                      |\n",
    "| `np.full_like(a, val)`                | 根据数组 a 的形状生成一个数组, 每个元素值都是 `val`     |\n",
    "| `np.linspace(start, stop, num)`       | 根据起止数据等间距地填充数据, 形成数组                  |\n",
    "| `np.concatenate((a1, a2, ...), axis)` | 将两个或多个数组合并成一个新的数组                      |\n"
   ]
  },
  {
   "cell_type": "code",
   "execution_count": 11,
   "metadata": {},
   "outputs": [
    {
     "data": {
      "text/plain": [
       "array([0, 1, 2, 3, 4, 5, 6, 7, 8, 9])"
      ]
     },
     "execution_count": 11,
     "metadata": {},
     "output_type": "execute_result"
    }
   ],
   "source": [
    "np.arange(10)"
   ]
  },
  {
   "cell_type": "code",
   "execution_count": 12,
   "metadata": {},
   "outputs": [
    {
     "data": {
      "text/plain": [
       "array([[1., 1., 1., 1.],\n",
       "       [1., 1., 1., 1.],\n",
       "       [1., 1., 1., 1.]])"
      ]
     },
     "execution_count": 12,
     "metadata": {},
     "output_type": "execute_result"
    }
   ],
   "source": [
    "np.ones((3,4))"
   ]
  },
  {
   "cell_type": "code",
   "execution_count": 13,
   "metadata": {},
   "outputs": [
    {
     "data": {
      "text/plain": [
       "array([[[0., 0., 0., 0.],\n",
       "        [0., 0., 0., 0.],\n",
       "        [0., 0., 0., 0.]],\n",
       "\n",
       "       [[0., 0., 0., 0.],\n",
       "        [0., 0., 0., 0.],\n",
       "        [0., 0., 0., 0.]]])"
      ]
     },
     "execution_count": 13,
     "metadata": {},
     "output_type": "execute_result"
    }
   ],
   "source": [
    "np.zeros((2,3,4))"
   ]
  },
  {
   "cell_type": "code",
   "execution_count": 14,
   "metadata": {},
   "outputs": [
    {
     "data": {
      "text/plain": [
       "array([[7, 7],\n",
       "       [7, 7]])"
      ]
     },
     "execution_count": 14,
     "metadata": {},
     "output_type": "execute_result"
    }
   ],
   "source": [
    "np.full((2,2),7)"
   ]
  },
  {
   "cell_type": "code",
   "execution_count": 15,
   "metadata": {},
   "outputs": [
    {
     "data": {
      "text/plain": [
       "array([[1., 0., 0., 0.],\n",
       "       [0., 1., 0., 0.],\n",
       "       [0., 0., 1., 0.],\n",
       "       [0., 0., 0., 1.]])"
      ]
     },
     "execution_count": 15,
     "metadata": {},
     "output_type": "execute_result"
    }
   ],
   "source": [
    "np.eye(4)"
   ]
  },
  {
   "cell_type": "code",
   "execution_count": 16,
   "metadata": {},
   "outputs": [
    {
     "data": {
      "text/plain": [
       "array([[1., 1., 1.],\n",
       "       [1., 1., 1.],\n",
       "       [1., 1., 1.]])"
      ]
     },
     "execution_count": 16,
     "metadata": {},
     "output_type": "execute_result"
    }
   ],
   "source": [
    "a = np.eye(3)\n",
    "np.ones_like(a)"
   ]
  },
  {
   "cell_type": "code",
   "execution_count": 17,
   "metadata": {},
   "outputs": [
    {
     "data": {
      "text/plain": [
       "array([[0., 0., 0.],\n",
       "       [0., 0., 0.],\n",
       "       [0., 0., 0.]])"
      ]
     },
     "execution_count": 17,
     "metadata": {},
     "output_type": "execute_result"
    }
   ],
   "source": [
    "np.zeros_like(a)"
   ]
  },
  {
   "cell_type": "code",
   "execution_count": 18,
   "metadata": {},
   "outputs": [
    {
     "data": {
      "text/plain": [
       "array([[7., 7., 7.],\n",
       "       [7., 7., 7.],\n",
       "       [7., 7., 7.]])"
      ]
     },
     "execution_count": 18,
     "metadata": {},
     "output_type": "execute_result"
    }
   ],
   "source": [
    "np.full_like(a,7)"
   ]
  },
  {
   "cell_type": "code",
   "execution_count": 19,
   "metadata": {},
   "outputs": [
    {
     "data": {
      "text/plain": [
       "array([0.  , 0.25, 0.5 , 0.75, 1.  ])"
      ]
     },
     "execution_count": 19,
     "metadata": {},
     "output_type": "execute_result"
    }
   ],
   "source": [
    "np.linspace(0,1,5)"
   ]
  },
  {
   "cell_type": "code",
   "execution_count": 20,
   "metadata": {},
   "outputs": [
    {
     "data": {
      "text/plain": [
       "array([[1., 0., 0.],\n",
       "       [0., 1., 0.],\n",
       "       [0., 0., 1.],\n",
       "       [1., 0., 0.],\n",
       "       [0., 1., 0.],\n",
       "       [0., 0., 1.]])"
      ]
     },
     "execution_count": 20,
     "metadata": {},
     "output_type": "execute_result"
    }
   ],
   "source": [
    "np.concatenate([a,a])"
   ]
  },
  {
   "cell_type": "markdown",
   "metadata": {},
   "source": [
    "#### ndarray 数组的维度变换\n",
    "\n",
    "| 方法                  | 说明                                                |\n",
    "| --------------------- | --------------------------------------------------- |\n",
    "| `.reshape(shape)`     | 不改变数组元素,返回一个 shape 形状的数组,原数组不变 |\n",
    "| `.resize(shape)`      | 与 `.reshape` 功能一致,但修改原数组                 |\n",
    "| `.swapaxes(ax1, ax2)` | 将数组 n 个维度中两个维度进行调换                   |\n",
    "| `.flatten()`          | 对数组进行降维,返回折叠后的一维数组,原数组不变      |\n"
   ]
  },
  {
   "cell_type": "code",
   "execution_count": 21,
   "metadata": {},
   "outputs": [
    {
     "data": {
      "text/plain": [
       "array([[1, 1, 1, 1, 1, 1, 1, 1],\n",
       "       [1, 1, 1, 1, 1, 1, 1, 1],\n",
       "       [1, 1, 1, 1, 1, 1, 1, 1]])"
      ]
     },
     "execution_count": 21,
     "metadata": {},
     "output_type": "execute_result"
    }
   ],
   "source": [
    "a = np.ones((2,3,4), dtype=np.int32)\n",
    "a.reshape((3,8))"
   ]
  },
  {
   "cell_type": "code",
   "execution_count": 22,
   "metadata": {},
   "outputs": [
    {
     "data": {
      "text/plain": [
       "array([[[1, 1, 1, 1],\n",
       "        [1, 1, 1, 1],\n",
       "        [1, 1, 1, 1]],\n",
       "\n",
       "       [[1, 1, 1, 1],\n",
       "        [1, 1, 1, 1],\n",
       "        [1, 1, 1, 1]]])"
      ]
     },
     "execution_count": 22,
     "metadata": {},
     "output_type": "execute_result"
    }
   ],
   "source": [
    "a"
   ]
  },
  {
   "cell_type": "code",
   "execution_count": 23,
   "metadata": {},
   "outputs": [],
   "source": [
    "a.resize((3,8))"
   ]
  },
  {
   "cell_type": "code",
   "execution_count": 24,
   "metadata": {},
   "outputs": [
    {
     "data": {
      "text/plain": [
       "array([[1, 1, 1, 1, 1, 1, 1, 1],\n",
       "       [1, 1, 1, 1, 1, 1, 1, 1],\n",
       "       [1, 1, 1, 1, 1, 1, 1, 1]])"
      ]
     },
     "execution_count": 24,
     "metadata": {},
     "output_type": "execute_result"
    }
   ],
   "source": [
    "a"
   ]
  },
  {
   "cell_type": "code",
   "execution_count": 25,
   "metadata": {},
   "outputs": [
    {
     "data": {
      "text/plain": [
       "array([1, 1, 1, 1, 1, 1, 1, 1, 1, 1, 1, 1, 1, 1, 1, 1, 1, 1, 1, 1, 1, 1,\n",
       "       1, 1])"
      ]
     },
     "execution_count": 25,
     "metadata": {},
     "output_type": "execute_result"
    }
   ],
   "source": [
    "a.flatten()"
   ]
  },
  {
   "cell_type": "code",
   "execution_count": 26,
   "metadata": {},
   "outputs": [
    {
     "data": {
      "text/plain": [
       "array([[1, 1, 1, 1, 1, 1, 1, 1],\n",
       "       [1, 1, 1, 1, 1, 1, 1, 1],\n",
       "       [1, 1, 1, 1, 1, 1, 1, 1]])"
      ]
     },
     "execution_count": 26,
     "metadata": {},
     "output_type": "execute_result"
    }
   ],
   "source": [
    "a"
   ]
  },
  {
   "cell_type": "code",
   "execution_count": 27,
   "metadata": {},
   "outputs": [],
   "source": [
    "b = a.flatten()"
   ]
  },
  {
   "cell_type": "code",
   "execution_count": 28,
   "metadata": {},
   "outputs": [
    {
     "data": {
      "text/plain": [
       "array([1, 1, 1, 1, 1, 1, 1, 1, 1, 1, 1, 1, 1, 1, 1, 1, 1, 1, 1, 1, 1, 1,\n",
       "       1, 1])"
      ]
     },
     "execution_count": 28,
     "metadata": {},
     "output_type": "execute_result"
    }
   ],
   "source": [
    "b"
   ]
  },
  {
   "cell_type": "markdown",
   "metadata": {},
   "source": [
    "#### new_a = a.astype(new_type)"
   ]
  },
  {
   "cell_type": "code",
   "execution_count": 29,
   "metadata": {},
   "outputs": [],
   "source": [
    "a = np.ones((2, 3, 4), dtype=np.int32)"
   ]
  },
  {
   "cell_type": "code",
   "execution_count": 30,
   "metadata": {},
   "outputs": [
    {
     "data": {
      "text/plain": [
       "array([[[1, 1, 1, 1],\n",
       "        [1, 1, 1, 1],\n",
       "        [1, 1, 1, 1]],\n",
       "\n",
       "       [[1, 1, 1, 1],\n",
       "        [1, 1, 1, 1],\n",
       "        [1, 1, 1, 1]]])"
      ]
     },
     "execution_count": 30,
     "metadata": {},
     "output_type": "execute_result"
    }
   ],
   "source": [
    "a"
   ]
  },
  {
   "cell_type": "code",
   "execution_count": 31,
   "metadata": {},
   "outputs": [],
   "source": [
    "b = a.astype(np.float64)"
   ]
  },
  {
   "cell_type": "code",
   "execution_count": 32,
   "metadata": {},
   "outputs": [
    {
     "data": {
      "text/plain": [
       "array([[[1., 1., 1., 1.],\n",
       "        [1., 1., 1., 1.],\n",
       "        [1., 1., 1., 1.]],\n",
       "\n",
       "       [[1., 1., 1., 1.],\n",
       "        [1., 1., 1., 1.],\n",
       "        [1., 1., 1., 1.]]])"
      ]
     },
     "execution_count": 32,
     "metadata": {},
     "output_type": "execute_result"
    }
   ],
   "source": [
    "b"
   ]
  },
  {
   "cell_type": "markdown",
   "metadata": {},
   "source": [
    "astype()方法一定会创建新的数组(原始数据的一个拷贝),即使两个类型一致."
   ]
  },
  {
   "cell_type": "markdown",
   "metadata": {},
   "source": [
    "#### ndarray数组向列表的转换\n",
    "ls = a.tolist()"
   ]
  },
  {
   "cell_type": "code",
   "execution_count": 33,
   "metadata": {},
   "outputs": [],
   "source": [
    "a = np.full((2, 3, 4), 25, dtype=np.int32)"
   ]
  },
  {
   "cell_type": "code",
   "execution_count": 34,
   "metadata": {},
   "outputs": [
    {
     "data": {
      "text/plain": [
       "array([[[25, 25, 25, 25],\n",
       "        [25, 25, 25, 25],\n",
       "        [25, 25, 25, 25]],\n",
       "\n",
       "       [[25, 25, 25, 25],\n",
       "        [25, 25, 25, 25],\n",
       "        [25, 25, 25, 25]]])"
      ]
     },
     "execution_count": 34,
     "metadata": {},
     "output_type": "execute_result"
    }
   ],
   "source": [
    "a"
   ]
  },
  {
   "cell_type": "code",
   "execution_count": 35,
   "metadata": {},
   "outputs": [
    {
     "data": {
      "text/plain": [
       "[[[25, 25, 25, 25], [25, 25, 25, 25], [25, 25, 25, 25]],\n",
       " [[25, 25, 25, 25], [25, 25, 25, 25], [25, 25, 25, 25]]]"
      ]
     },
     "execution_count": 35,
     "metadata": {},
     "output_type": "execute_result"
    }
   ],
   "source": [
    "a.tolist()"
   ]
  },
  {
   "cell_type": "markdown",
   "metadata": {},
   "source": [
    "### ndarray数组的操作(索引和切片)\n",
    "数组的索引和切片\n",
    "- 索引:获取数组中特定位置元素的过程\n",
    "- 切片:获取数组元素子集的过程"
   ]
  },
  {
   "cell_type": "markdown",
   "metadata": {},
   "source": [
    "一维数组的索引和切片:与Python的列表类似"
   ]
  },
  {
   "cell_type": "code",
   "execution_count": 36,
   "metadata": {},
   "outputs": [],
   "source": [
    "a = np.array([1,2,3,4,5,6,7,8,9,10])"
   ]
  },
  {
   "cell_type": "code",
   "execution_count": 37,
   "metadata": {},
   "outputs": [
    {
     "data": {
      "text/plain": [
       "3"
      ]
     },
     "execution_count": 37,
     "metadata": {},
     "output_type": "execute_result"
    }
   ],
   "source": [
    "a[2]"
   ]
  },
  {
   "cell_type": "code",
   "execution_count": 38,
   "metadata": {},
   "outputs": [
    {
     "data": {
      "text/plain": [
       "array([2, 4])"
      ]
     },
     "execution_count": 38,
     "metadata": {},
     "output_type": "execute_result"
    }
   ],
   "source": [
    "a[1:4:2]"
   ]
  },
  {
   "cell_type": "markdown",
   "metadata": {},
   "source": [
    "多位数组的索引:"
   ]
  },
  {
   "cell_type": "code",
   "execution_count": 39,
   "metadata": {},
   "outputs": [],
   "source": [
    "a = np.arange(24).reshape((2,3,4))"
   ]
  },
  {
   "cell_type": "code",
   "execution_count": 40,
   "metadata": {},
   "outputs": [
    {
     "data": {
      "text/plain": [
       "array([[[ 0,  1,  2,  3],\n",
       "        [ 4,  5,  6,  7],\n",
       "        [ 8,  9, 10, 11]],\n",
       "\n",
       "       [[12, 13, 14, 15],\n",
       "        [16, 17, 18, 19],\n",
       "        [20, 21, 22, 23]]])"
      ]
     },
     "execution_count": 40,
     "metadata": {},
     "output_type": "execute_result"
    }
   ],
   "source": [
    "a"
   ]
  },
  {
   "cell_type": "code",
   "execution_count": 41,
   "metadata": {},
   "outputs": [
    {
     "data": {
      "text/plain": [
       "23"
      ]
     },
     "execution_count": 41,
     "metadata": {},
     "output_type": "execute_result"
    }
   ],
   "source": [
    "a[1,2,3]"
   ]
  },
  {
   "cell_type": "code",
   "execution_count": 42,
   "metadata": {},
   "outputs": [
    {
     "data": {
      "text/plain": [
       "6"
      ]
     },
     "execution_count": 42,
     "metadata": {},
     "output_type": "execute_result"
    }
   ],
   "source": [
    "a[0,1,2]"
   ]
  },
  {
   "cell_type": "code",
   "execution_count": 43,
   "metadata": {},
   "outputs": [
    {
     "data": {
      "text/plain": [
       "17"
      ]
     },
     "execution_count": 43,
     "metadata": {},
     "output_type": "execute_result"
    }
   ],
   "source": [
    "a[-1,-2,-3]"
   ]
  },
  {
   "cell_type": "markdown",
   "metadata": {},
   "source": [
    "多维数组的切片:"
   ]
  },
  {
   "cell_type": "code",
   "execution_count": 44,
   "metadata": {},
   "outputs": [
    {
     "data": {
      "text/plain": [
       "array([ 5, 17])"
      ]
     },
     "execution_count": 44,
     "metadata": {},
     "output_type": "execute_result"
    }
   ],
   "source": [
    "a[:,1,-3]"
   ]
  },
  {
   "cell_type": "code",
   "execution_count": 45,
   "metadata": {},
   "outputs": [
    {
     "data": {
      "text/plain": [
       "array([[[ 4,  5,  6,  7],\n",
       "        [ 8,  9, 10, 11]],\n",
       "\n",
       "       [[16, 17, 18, 19],\n",
       "        [20, 21, 22, 23]]])"
      ]
     },
     "execution_count": 45,
     "metadata": {},
     "output_type": "execute_result"
    }
   ],
   "source": [
    "a[:,1:3,:]"
   ]
  },
  {
   "cell_type": "markdown",
   "metadata": {},
   "source": [
    "### ndarray数组运算\n",
    "#### 数组与标量之间的运算\n",
    "- 数组与标量之间的运算作用于数组的每一个元素"
   ]
  },
  {
   "cell_type": "code",
   "execution_count": 46,
   "metadata": {},
   "outputs": [],
   "source": [
    "a = np.arange(24).reshape((2,3,4))"
   ]
  },
  {
   "cell_type": "code",
   "execution_count": 47,
   "metadata": {},
   "outputs": [
    {
     "data": {
      "text/plain": [
       "array([[[ 0,  1,  2,  3],\n",
       "        [ 4,  5,  6,  7],\n",
       "        [ 8,  9, 10, 11]],\n",
       "\n",
       "       [[12, 13, 14, 15],\n",
       "        [16, 17, 18, 19],\n",
       "        [20, 21, 22, 23]]])"
      ]
     },
     "execution_count": 47,
     "metadata": {},
     "output_type": "execute_result"
    }
   ],
   "source": [
    "a"
   ]
  },
  {
   "cell_type": "code",
   "execution_count": 48,
   "metadata": {},
   "outputs": [
    {
     "data": {
      "text/plain": [
       "11.5"
      ]
     },
     "execution_count": 48,
     "metadata": {},
     "output_type": "execute_result"
    }
   ],
   "source": [
    "a.mean()"
   ]
  },
  {
   "cell_type": "code",
   "execution_count": 49,
   "metadata": {},
   "outputs": [
    {
     "data": {
      "text/plain": [
       "array([[[0.        , 0.08695652, 0.17391304, 0.26086957],\n",
       "        [0.34782609, 0.43478261, 0.52173913, 0.60869565],\n",
       "        [0.69565217, 0.7826087 , 0.86956522, 0.95652174]],\n",
       "\n",
       "       [[1.04347826, 1.13043478, 1.2173913 , 1.30434783],\n",
       "        [1.39130435, 1.47826087, 1.56521739, 1.65217391],\n",
       "        [1.73913043, 1.82608696, 1.91304348, 2.        ]]])"
      ]
     },
     "execution_count": 49,
     "metadata": {},
     "output_type": "execute_result"
    }
   ],
   "source": [
    "a/a.mean()"
   ]
  },
  {
   "cell_type": "markdown",
   "metadata": {},
   "source": [
    "#### 对 ndarray 中的数据执行元素级运算的函数\n",
    "\n",
    "| 函数                                                                                      | 说明                                               |\n",
    "| ----------------------------------------------------------------------------------------- | -------------------------------------------------- |\n",
    "| `np.abs(x)`<br>`np.fabs(x)`                                                               | 计算数组各元素的绝对值                             |\n",
    "| `np.sqrt(x)`                                                                              | 计算数组各元素的平方根                             |\n",
    "| `np.square(x)`                                                                            | 计算数组各元素的平方                               |\n",
    "| `np.log(x)`<br>`np.log10(x)`<br>`np.log2(x)`                                              | 计算数组各元素的自然对数,10 底对数和 2 底对数     |\n",
    "| `np.ceil(x)`<br>`np.floor(x)`                                                             | 计算数组各元素的 ceiling 值或 floor 值             |\n",
    "| `np.rint(x)`                                                                              | 计算数组各元素的四舍五入值                         |\n",
    "| `np.modf(x)`                                                                              | 将数组各元素的小数和整数部分以两个独立数组形式返回 |\n",
    "| `np.cos(x)`<br>`np.cosh(x)`<br>`np.sin(x)`<br>`np.sinh(x)`<br>`np.tan(x)`<br>`np.tanh(x)` | 计算数组各元素的普通型和双曲型三角函数             |\n",
    "| `np.exp(x)`                                                                               | 计算数组各元素的指数值                             |\n",
    "| `np.sign(x)`                                                                              | 计算数组各元素的符号值,1(+), 0, -1(-)             |\n"
   ]
  },
  {
   "cell_type": "code",
   "execution_count": 50,
   "metadata": {},
   "outputs": [
    {
     "data": {
      "text/plain": [
       "array([[[  0,   1,   4,   9],\n",
       "        [ 16,  25,  36,  49],\n",
       "        [ 64,  81, 100, 121]],\n",
       "\n",
       "       [[144, 169, 196, 225],\n",
       "        [256, 289, 324, 361],\n",
       "        [400, 441, 484, 529]]])"
      ]
     },
     "execution_count": 50,
     "metadata": {},
     "output_type": "execute_result"
    }
   ],
   "source": [
    "a = np.arange(24).reshape((2,3,4))\n",
    "np.square(a)"
   ]
  },
  {
   "cell_type": "code",
   "execution_count": 51,
   "metadata": {},
   "outputs": [
    {
     "data": {
      "text/plain": [
       "array([[[0.        , 1.        , 1.41421356, 1.73205081],\n",
       "        [2.        , 2.23606798, 2.44948974, 2.64575131],\n",
       "        [2.82842712, 3.        , 3.16227766, 3.31662479]],\n",
       "\n",
       "       [[3.46410162, 3.60555128, 3.74165739, 3.87298335],\n",
       "        [4.        , 4.12310563, 4.24264069, 4.35889894],\n",
       "        [4.47213595, 4.58257569, 4.69041576, 4.79583152]]])"
      ]
     },
     "execution_count": 51,
     "metadata": {},
     "output_type": "execute_result"
    }
   ],
   "source": [
    "a = np.sqrt(a) # a = a**0.5被改变\n",
    "a"
   ]
  },
  {
   "cell_type": "code",
   "execution_count": 52,
   "metadata": {},
   "outputs": [
    {
     "data": {
      "text/plain": [
       "(array([[[0.        , 0.        , 0.41421356, 0.73205081],\n",
       "         [0.        , 0.23606798, 0.44948974, 0.64575131],\n",
       "         [0.82842712, 0.        , 0.16227766, 0.31662479]],\n",
       " \n",
       "        [[0.46410162, 0.60555128, 0.74165739, 0.87298335],\n",
       "         [0.        , 0.12310563, 0.24264069, 0.35889894],\n",
       "         [0.47213595, 0.58257569, 0.69041576, 0.79583152]]]),\n",
       " array([[[0., 1., 1., 1.],\n",
       "         [2., 2., 2., 2.],\n",
       "         [2., 3., 3., 3.]],\n",
       " \n",
       "        [[3., 3., 3., 3.],\n",
       "         [4., 4., 4., 4.],\n",
       "         [4., 4., 4., 4.]]]))"
      ]
     },
     "execution_count": 52,
     "metadata": {},
     "output_type": "execute_result"
    }
   ],
   "source": [
    "np.modf(a)"
   ]
  },
  {
   "cell_type": "markdown",
   "metadata": {},
   "source": [
    "#### numpy 二元函数\n",
    "\n",
    "| 函数                                                                 | 说明                                           |\n",
    "| -------------------------------------------------------------------- | ---------------------------------------------- |\n",
    "| `+ - * / **`                                                         | 两个数组各元素进行对应运算                     |\n",
    "| `np.minimum(x,y)`<br>`np.fmin()`<br>`np.maximum(x,y)`<br>`np.fmax()` | 元素级的最大值/最小值计算                      |\n",
    "| `np.mod(x,y)`                                                        | 元素级的模运算                                 |\n",
    "| `np.copysign(x,y)`                                                   | 将数组 y 中各元素值的符号赋值给数组 x 对应元素 |\n",
    "| `== != < > <= >=`                                                    | 算术比较,产生布尔型数组                        |\n"
   ]
  },
  {
   "cell_type": "code",
   "execution_count": 53,
   "metadata": {},
   "outputs": [],
   "source": [
    "a = np.arange(24).reshape((2, 3, 4))\n",
    "b = np.sqrt(a)"
   ]
  },
  {
   "cell_type": "code",
   "execution_count": 54,
   "metadata": {},
   "outputs": [
    {
     "data": {
      "text/plain": [
       "array([[[ 0,  1,  2,  3],\n",
       "        [ 4,  5,  6,  7],\n",
       "        [ 8,  9, 10, 11]],\n",
       "\n",
       "       [[12, 13, 14, 15],\n",
       "        [16, 17, 18, 19],\n",
       "        [20, 21, 22, 23]]])"
      ]
     },
     "execution_count": 54,
     "metadata": {},
     "output_type": "execute_result"
    }
   ],
   "source": [
    "a"
   ]
  },
  {
   "cell_type": "code",
   "execution_count": 55,
   "metadata": {},
   "outputs": [
    {
     "data": {
      "text/plain": [
       "array([[[0.        , 1.        , 1.41421356, 1.73205081],\n",
       "        [2.        , 2.23606798, 2.44948974, 2.64575131],\n",
       "        [2.82842712, 3.        , 3.16227766, 3.31662479]],\n",
       "\n",
       "       [[3.46410162, 3.60555128, 3.74165739, 3.87298335],\n",
       "        [4.        , 4.12310563, 4.24264069, 4.35889894],\n",
       "        [4.47213595, 4.58257569, 4.69041576, 4.79583152]]])"
      ]
     },
     "execution_count": 55,
     "metadata": {},
     "output_type": "execute_result"
    }
   ],
   "source": [
    "b"
   ]
  },
  {
   "cell_type": "code",
   "execution_count": 56,
   "metadata": {},
   "outputs": [
    {
     "data": {
      "text/plain": [
       "array([[[ 0.,  1.,  2.,  3.],\n",
       "        [ 4.,  5.,  6.,  7.],\n",
       "        [ 8.,  9., 10., 11.]],\n",
       "\n",
       "       [[12., 13., 14., 15.],\n",
       "        [16., 17., 18., 19.],\n",
       "        [20., 21., 22., 23.]]])"
      ]
     },
     "execution_count": 56,
     "metadata": {},
     "output_type": "execute_result"
    }
   ],
   "source": [
    "np.maximum(a, b)"
   ]
  },
  {
   "cell_type": "code",
   "execution_count": 57,
   "metadata": {},
   "outputs": [
    {
     "data": {
      "text/plain": [
       "array([[[False, False,  True,  True],\n",
       "        [ True,  True,  True,  True],\n",
       "        [ True,  True,  True,  True]],\n",
       "\n",
       "       [[ True,  True,  True,  True],\n",
       "        [ True,  True,  True,  True],\n",
       "        [ True,  True,  True,  True]]])"
      ]
     },
     "execution_count": 57,
     "metadata": {},
     "output_type": "execute_result"
    }
   ],
   "source": [
    "a > b"
   ]
  },
  {
   "cell_type": "markdown",
   "metadata": {},
   "source": [
    "### 单元小结\n",
    "\n",
    "#### 数据的维度\n",
    "\n",
    "- 一维\n",
    "- 二维\n",
    "- 多维\n",
    "- 高维\n",
    "\n",
    "#### ndarray 类型属性,创建和变换\n",
    "\n",
    "- `.ndim` 数组的维数\n",
    "- `.shape` 数组每一维的大小\n",
    "- `.size` 数组中的元素总数\n",
    "- `.dtype` 数组元素类型\n",
    "- `.itemsize` 数组中每个元素的字节大小\n",
    "- `.reshape(shape)` 改变数组形状\n",
    "- `.resize(shape)` 改变数组大小\n",
    "- `.swapaxes(ax1, ax2)` 交换数组的两个轴\n",
    "- `.flatten()` 数组展平\n",
    "\n",
    "#### 创建数组的函数\n",
    "\n",
    "- `np.arange(n)` 创建范围内的数组\n",
    "- `np.ones(shape)` 创建全 1 数组\n",
    "- `np.zeros(shape)` 创建全 0 数组\n",
    "- `np.full(shape, val)` 创建全为指定值的数组\n",
    "- `np.eye(n)` 创建一个 n\\*n 单位矩阵\n",
    "- `np.ones_like(a)` 创建一个形状与 a 相同,全部元素为 1 的数组\n",
    "- `np.zeros_like(a)` 创建一个形状与 a 相同,全部元素为 0 的数组\n",
    "- `np.full_like(a, val)` 创建一个形状与 a 相同,全部元素为指定值 val 的数组\n",
    "\n",
    "#### 数组的操作\n",
    "\n",
    "- **数组的索引和切片**\n",
    "- **数组的运算**\n",
    "  - 一元函数\n",
    "  - 二元函数\n"
   ]
  },
  {
   "cell_type": "markdown",
   "metadata": {},
   "source": [
    "## numpy 数据存取与函数\n",
    "\n",
    "### 数据的 CSV 文件存取\n",
    "\n",
    "CSV 文件\n",
    "\n",
    "- CSV(Comma-SeparatedValue,逗号分隔值)\n",
    "- CSV 是一种常见的文件格式,用来存储批量数据.\n",
    "  2016 年 7 月部分大中城市新建住宅价格指数\n",
    "  | 城市 | 环比 | 同比 | 定基 |\n",
    "  |------|--------|--------|--------|\n",
    "  | 北京 | 101.5 | 120.7 | 121.4 |\n",
    "  | 上海 | 101.2 | 127.3 | 127.8 |\n",
    "  | 深圳 | 102.0 | 140.9 | 145.5 |\n",
    "  | 广州 | 101.3 | 119.4 | 120.0 |\n",
    "  | 沈阳 | 100.1 | 101.4 | 101.6 |\n",
    "- 城市,环比,同比,定基\n",
    "- 北京,101.5,120.7,121.4\n",
    "- 上海,101.2,127.3,127.8\n",
    "- 广州,101.3,119.4,120.0\n",
    "- 深圳,102.0,140.9,145.5\n",
    "- 沈阳,100.1,101.4,101.6\n",
    "\n",
    "将数据写入 CSV:np.savetxt(frame, array,fmt='%.18e',delimiter=None)\n",
    "\n",
    "- frame:文件,字符串或产生器,可以是.gz 或.bz2 的压缩文件.\n",
    "- array:存人文件的数组.\n",
    "- fmt:写人文件的格式,例如:%d%.2f%.18e.\n",
    "- delimite:分割字符串,默认是任何空格."
   ]
  },
  {
   "cell_type": "code",
   "execution_count": 58,
   "metadata": {},
   "outputs": [
    {
     "data": {
      "text/plain": [
       "array([[ 0,  1,  2,  3,  4,  5,  6,  7,  8,  9, 10, 11, 12, 13, 14, 15,\n",
       "        16, 17, 18, 19],\n",
       "       [20, 21, 22, 23, 24, 25, 26, 27, 28, 29, 30, 31, 32, 33, 34, 35,\n",
       "        36, 37, 38, 39],\n",
       "       [40, 41, 42, 43, 44, 45, 46, 47, 48, 49, 50, 51, 52, 53, 54, 55,\n",
       "        56, 57, 58, 59],\n",
       "       [60, 61, 62, 63, 64, 65, 66, 67, 68, 69, 70, 71, 72, 73, 74, 75,\n",
       "        76, 77, 78, 79],\n",
       "       [80, 81, 82, 83, 84, 85, 86, 87, 88, 89, 90, 91, 92, 93, 94, 95,\n",
       "        96, 97, 98, 99]])"
      ]
     },
     "execution_count": 58,
     "metadata": {},
     "output_type": "execute_result"
    }
   ],
   "source": [
    "a = np.arange(100).reshape(5,20)\n",
    "np.savetxt('a.txt',a,fmt='%d',delimiter=',')\n",
    "a"
   ]
  },
  {
   "cell_type": "code",
   "execution_count": 59,
   "metadata": {},
   "outputs": [
    {
     "data": {
      "text/plain": [
       "array([[ 0,  1,  2,  3,  4,  5,  6,  7,  8,  9, 10, 11, 12, 13, 14, 15,\n",
       "        16, 17, 18, 19],\n",
       "       [20, 21, 22, 23, 24, 25, 26, 27, 28, 29, 30, 31, 32, 33, 34, 35,\n",
       "        36, 37, 38, 39],\n",
       "       [40, 41, 42, 43, 44, 45, 46, 47, 48, 49, 50, 51, 52, 53, 54, 55,\n",
       "        56, 57, 58, 59],\n",
       "       [60, 61, 62, 63, 64, 65, 66, 67, 68, 69, 70, 71, 72, 73, 74, 75,\n",
       "        76, 77, 78, 79],\n",
       "       [80, 81, 82, 83, 84, 85, 86, 87, 88, 89, 90, 91, 92, 93, 94, 95,\n",
       "        96, 97, 98, 99]])"
      ]
     },
     "execution_count": 59,
     "metadata": {},
     "output_type": "execute_result"
    }
   ],
   "source": [
    "a = np.arange(100).reshape(5,20)\n",
    "np.savetxt('a.txt',a,fmt='%.1f',delimiter=',')\n",
    "a"
   ]
  },
  {
   "cell_type": "markdown",
   "metadata": {},
   "source": [
    "从CSV文件读取数据:np.loadtxt(frame, dtype=np.float, delimiter=None, unpack=False)\n",
    "使用 `np.loadtxt` 函数从CSV文件中读取数据.参数说明如下:\n",
    "- `frame`: 文件,字符串或产生器,可以是`.gz`或`.bz2`的压缩文件.\n",
    "- `dtype`: 数据类型,默认是`np.float`.\n",
    "- `delimiter`: 分隔符,默认为任何空格.\n",
    "- `unpack`: 如果为True,则读入的结果数组会转置,即将行转换为列.默认值是False."
   ]
  },
  {
   "cell_type": "code",
   "execution_count": 60,
   "metadata": {},
   "outputs": [
    {
     "data": {
      "text/plain": [
       "array([[ 0.,  1.,  2.,  3.,  4.,  5.,  6.,  7.,  8.,  9., 10., 11., 12.,\n",
       "        13., 14., 15., 16., 17., 18., 19.],\n",
       "       [20., 21., 22., 23., 24., 25., 26., 27., 28., 29., 30., 31., 32.,\n",
       "        33., 34., 35., 36., 37., 38., 39.],\n",
       "       [40., 41., 42., 43., 44., 45., 46., 47., 48., 49., 50., 51., 52.,\n",
       "        53., 54., 55., 56., 57., 58., 59.],\n",
       "       [60., 61., 62., 63., 64., 65., 66., 67., 68., 69., 70., 71., 72.,\n",
       "        73., 74., 75., 76., 77., 78., 79.],\n",
       "       [80., 81., 82., 83., 84., 85., 86., 87., 88., 89., 90., 91., 92.,\n",
       "        93., 94., 95., 96., 97., 98., 99.]])"
      ]
     },
     "execution_count": 60,
     "metadata": {},
     "output_type": "execute_result"
    }
   ],
   "source": [
    "b = np.loadtxt('a.txt',delimiter=',')\n",
    "b"
   ]
  },
  {
   "cell_type": "code",
   "execution_count": 61,
   "metadata": {},
   "outputs": [
    {
     "data": {
      "text/plain": [
       "array([[ 0,  1,  2,  3,  4,  5,  6,  7,  8,  9, 10, 11, 12, 13, 14, 15,\n",
       "        16, 17, 18, 19],\n",
       "       [20, 21, 22, 23, 24, 25, 26, 27, 28, 29, 30, 31, 32, 33, 34, 35,\n",
       "        36, 37, 38, 39],\n",
       "       [40, 41, 42, 43, 44, 45, 46, 47, 48, 49, 50, 51, 52, 53, 54, 55,\n",
       "        56, 57, 58, 59],\n",
       "       [60, 61, 62, 63, 64, 65, 66, 67, 68, 69, 70, 71, 72, 73, 74, 75,\n",
       "        76, 77, 78, 79],\n",
       "       [80, 81, 82, 83, 84, 85, 86, 87, 88, 89, 90, 91, 92, 93, 94, 95,\n",
       "        96, 97, 98, 99]], dtype=int64)"
      ]
     },
     "execution_count": 61,
     "metadata": {},
     "output_type": "execute_result"
    }
   ],
   "source": [
    "b = np.loadtxt('a.txt', delimiter=',').astype(np.int64)\n",
    "b"
   ]
  },
  {
   "cell_type": "markdown",
   "metadata": {},
   "source": [
    "CSV 文件的局限性\n",
    "\n",
    "- CSV 只能有效存储一维和二维数组\n",
    "- np.savetxt() np.loadtxt()只能有效存取一维和二维数组\n"
   ]
  },
  {
   "cell_type": "markdown",
   "metadata": {},
   "source": [
    "### 多维数据的存取\n",
    "#### 存数据a.tofile(frame, sep=\",format='%s)\n",
    "- frame:文件,字符串.\n",
    "- sep:数据分割字符串,如果是空串,写人文件为二进制.\n",
    "- format:写人数据的格式."
   ]
  },
  {
   "cell_type": "code",
   "execution_count": 63,
   "metadata": {},
   "outputs": [],
   "source": [
    "a = np.arange(100).reshape(5,20)\n",
    "a.tofile(\"b.dat\", sep=\",\", format=\"%d\")"
   ]
  },
  {
   "cell_type": "code",
   "execution_count": 64,
   "metadata": {},
   "outputs": [],
   "source": [
    "a = np.arange(100).reshape(5, 20)\n",
    "a.tofile(\"b.dat\", format=\"%d\")  # 二进制文件占用的空间更小"
   ]
  },
  {
   "cell_type": "markdown",
   "metadata": {},
   "source": [
    "#### 读数据np.fromfile(frame, dtype=float,count=-1, sep=\")\n",
    "\n",
    "- frame:文件,字符串.\n",
    "- dtype:读取的数据类型.\n",
    "- count:读人元素个数,-1 表示读人整个文件.\n",
    "- sep:数据分割字符串,如果是空串,写入文件为二进制."
   ]
  },
  {
   "cell_type": "code",
   "execution_count": 65,
   "metadata": {},
   "outputs": [
    {
     "data": {
      "text/plain": [
       "array([ 0,  1,  2,  3,  4,  5,  6,  7,  8,  9, 10, 11, 12, 13, 14, 15, 16,\n",
       "       17, 18, 19, 20, 21, 22, 23, 24, 25, 26, 27, 28, 29, 30, 31, 32, 33,\n",
       "       34, 35, 36, 37, 38, 39, 40, 41, 42, 43, 44, 45, 46, 47, 48, 49, 50,\n",
       "       51, 52, 53, 54, 55, 56, 57, 58, 59, 60, 61, 62, 63, 64, 65, 66, 67,\n",
       "       68, 69, 70, 71, 72, 73, 74, 75, 76, 77, 78, 79, 80, 81, 82, 83, 84,\n",
       "       85, 86, 87, 88, 89, 90, 91, 92, 93, 94, 95, 96, 97, 98, 99],\n",
       "      dtype=int64)"
      ]
     },
     "execution_count": 65,
     "metadata": {},
     "output_type": "execute_result"
    }
   ],
   "source": [
    "a = np.arange(100).reshape(5, 20)\n",
    "a.tofile(\"b.dat\", sep=\",\", format=\"%d\")\n",
    "c = np.fromfile(\"b.dat\", dtype=np.int64, sep=\",\")\n",
    "c"
   ]
  },
  {
   "cell_type": "code",
   "execution_count": 66,
   "metadata": {},
   "outputs": [
    {
     "data": {
      "text/plain": [
       "array([[ 0,  1],\n",
       "       [ 2,  3],\n",
       "       [ 4,  5],\n",
       "       [ 6,  7],\n",
       "       [ 8,  9],\n",
       "       [10, 11],\n",
       "       [12, 13],\n",
       "       [14, 15],\n",
       "       [16, 17],\n",
       "       [18, 19],\n",
       "       [20, 21],\n",
       "       [22, 23],\n",
       "       [24, 25],\n",
       "       [26, 27],\n",
       "       [28, 29],\n",
       "       [30, 31],\n",
       "       [32, 33],\n",
       "       [34, 35],\n",
       "       [36, 37],\n",
       "       [38, 39],\n",
       "       [40, 41],\n",
       "       [42, 43],\n",
       "       [44, 45],\n",
       "       [46, 47],\n",
       "       [48, 49],\n",
       "       [50, 51],\n",
       "       [52, 53],\n",
       "       [54, 55],\n",
       "       [56, 57],\n",
       "       [58, 59],\n",
       "       [60, 61],\n",
       "       [62, 63],\n",
       "       [64, 65],\n",
       "       [66, 67],\n",
       "       [68, 69],\n",
       "       [70, 71],\n",
       "       [72, 73],\n",
       "       [74, 75],\n",
       "       [76, 77],\n",
       "       [78, 79],\n",
       "       [80, 81],\n",
       "       [82, 83],\n",
       "       [84, 85],\n",
       "       [86, 87],\n",
       "       [88, 89],\n",
       "       [90, 91],\n",
       "       [92, 93],\n",
       "       [94, 95],\n",
       "       [96, 97],\n",
       "       [98, 99]], dtype=int64)"
      ]
     },
     "execution_count": 66,
     "metadata": {},
     "output_type": "execute_result"
    }
   ],
   "source": [
    "c.reshape(50,2)"
   ]
  },
  {
   "cell_type": "markdown",
   "metadata": {},
   "source": [
    "需要注意\n",
    "\n",
    "- 该方法需要读取时知道存入文件时数组的维度和元素类型\n",
    "- a.tofile()和 np.fromfile()需要配合使用\n",
    "- 可以通过元数据文件来存储额外信息\n",
    "\n",
    "#### numpy 的便捷文件存取\n",
    "\n",
    "- np.save(fname, array)或 np.savez(fname, array)\n",
    "- frame:文件名,以.npy 为扩展名,压缩扩展名为.npz\n",
    "- array:数组变量\n",
    "np.load(fname)\n",
    "- frame: 文件名,以.npy 为扩展名,压缩扩展名为.npz\n"
   ]
  },
  {
   "cell_type": "code",
   "execution_count": 67,
   "metadata": {},
   "outputs": [
    {
     "data": {
      "text/plain": [
       "array([[ 0,  1,  2,  3,  4,  5,  6,  7,  8,  9, 10, 11, 12, 13, 14, 15,\n",
       "        16, 17, 18, 19],\n",
       "       [20, 21, 22, 23, 24, 25, 26, 27, 28, 29, 30, 31, 32, 33, 34, 35,\n",
       "        36, 37, 38, 39],\n",
       "       [40, 41, 42, 43, 44, 45, 46, 47, 48, 49, 50, 51, 52, 53, 54, 55,\n",
       "        56, 57, 58, 59],\n",
       "       [60, 61, 62, 63, 64, 65, 66, 67, 68, 69, 70, 71, 72, 73, 74, 75,\n",
       "        76, 77, 78, 79],\n",
       "       [80, 81, 82, 83, 84, 85, 86, 87, 88, 89, 90, 91, 92, 93, 94, 95,\n",
       "        96, 97, 98, 99]])"
      ]
     },
     "execution_count": 67,
     "metadata": {},
     "output_type": "execute_result"
    }
   ],
   "source": [
    "a = np.arange(100).reshape(5, 20)\n",
    "np.save(\"a.npy\", a)\n",
    "b  = np.load(\"a.npy\")\n",
    "b"
   ]
  },
  {
   "cell_type": "markdown",
   "metadata": {},
   "source": [
    "### numpy 的随机数子库\n",
    "\n",
    "#### numpy 的 random 子库\n",
    "\n",
    "### NumPy 随机数函数\n",
    "\n",
    "NumPy 提供了多种生成随机数的函数, 以下是一些常用的函数及其说明:\n",
    "\n",
    "| 函数                          | 说明                                                                                               |\n",
    "| ----------------------------- | -------------------------------------------------------------------------------------------------- |\n",
    "| `rand(d0, d1, ..., dn)`       | 根据 d0-dn 创建随机数数组, 浮点数, [0,1)之间, 均匀分布                                             |\n",
    "| `randn(d0, d1, ..., dn)`      | 根据 d0-dn 创建随机数数组, 标准正态分布                                                            |\n",
    "| `randint(low, high, shape)`   | 根据 shape 创建随机整数或整数数组, 范围是 [low, high)                                              |\n",
    "| `seed(s)`                     | 设置随机数种子, s 是给定的种子值                                                                   |\n",
    "| `shuffle(a)`                  | 根据数组 a 的第 1 轴进行随机排列, 改变数组 x                                                       |\n",
    "| `permutation(a)`              | 根据数组 a 的第 1 轴产生一个新的乱序数组, 不改变数组 x                                             |\n",
    "| `choice(a, size, replace, p)` | 从一维数组 a 中以概率 p 抽取元素, 形成 size 形状新数组, replace 表示是否可以重用元素, 默认为 False |\n",
    "| `uniform(low, high, size)`    | 产生具有均匀分布的数组, low 起始值, high 结束值, size 形状                                         |\n",
    "| `normal(loc, scale, size)`    | 产生具有正态分布的数组, loc 均值, scale 标准差, size 形状                                          |\n",
    "| `poisson(lam, size)`          | 产生具有泊松分布的数组, lam 随机事件发生率, size 形状                                              |\n",
    "\n",
    "使用这些函数可以方便地生成各种随机数据, 用于数据分析, 机器学习等领域.\n"
   ]
  },
  {
   "cell_type": "code",
   "execution_count": 1,
   "metadata": {},
   "outputs": [
    {
     "name": "stdout",
     "output_type": "stream",
     "text": [
      "Uniformly distributed array:\n",
      " [[0.6862318  0.330149   0.04003111]\n",
      " [0.97379456 0.32859659 0.60269048]\n",
      " [0.26902003 0.73616318 0.1173783 ]]\n"
     ]
    }
   ],
   "source": [
    "import numpy as np\n",
    "\n",
    "# 生成一个 3x3 的随机浮点数数组\n",
    "array_uniform = np.random.rand(3, 3)\n",
    "print(\"Uniformly distributed array:\\n\", array_uniform)"
   ]
  },
  {
   "cell_type": "code",
   "execution_count": 2,
   "metadata": {},
   "outputs": [
    {
     "name": "stdout",
     "output_type": "stream",
     "text": [
      "Normally distributed array:\n",
      " [[-0.08690693  1.29299967 -0.18989697  1.6778205 ]\n",
      " [-0.87532551 -1.02944631  0.60763445  1.20456039]]\n"
     ]
    }
   ],
   "source": [
    "# 生成一个 2x4 的标准正态分布随机数数组\n",
    "array_normal = np.random.randn(2, 4)\n",
    "print(\"Normally distributed array:\\n\", array_normal)"
   ]
  },
  {
   "cell_type": "code",
   "execution_count": 3,
   "metadata": {},
   "outputs": [
    {
     "name": "stdout",
     "output_type": "stream",
     "text": [
      "Random integers array:\n",
      " [[7 7]\n",
      " [6 6]]\n"
     ]
    }
   ],
   "source": [
    "# 生成一个形状为 (2, 2) 的 [5, 10) 范围内的随机整数数组\n",
    "array_integers = np.random.randint(5, 10, size=(2, 2))\n",
    "print(\"Random integers array:\\n\", array_integers)"
   ]
  },
  {
   "cell_type": "code",
   "execution_count": 4,
   "metadata": {},
   "outputs": [],
   "source": [
    "# 设置随机数种子\n",
    "np.random.seed(0)"
   ]
  },
  {
   "cell_type": "code",
   "execution_count": 5,
   "metadata": {},
   "outputs": [
    {
     "name": "stdout",
     "output_type": "stream",
     "text": [
      "Original array:\n",
      " [0 1 2 3 4 5 6 7 8 9]\n",
      "Shuffled array:\n",
      " [2 8 4 9 1 6 7 3 0 5]\n"
     ]
    }
   ],
   "source": [
    "# 创建一个数组\n",
    "arr = np.arange(10)\n",
    "print(\"Original array:\\n\", arr)\n",
    "\n",
    "# 随机排列数组\n",
    "np.random.shuffle(arr)\n",
    "print(\"Shuffled array:\\n\", arr)"
   ]
  },
  {
   "cell_type": "code",
   "execution_count": 6,
   "metadata": {},
   "outputs": [
    {
     "name": "stdout",
     "output_type": "stream",
     "text": [
      "Original array:\n",
      " [0 1 2 3 4]\n",
      "Permuted array:\n",
      " [1 0 2 3 4]\n"
     ]
    }
   ],
   "source": [
    "# 创建一个数组\n",
    "arr = np.arange(5)\n",
    "print(\"Original array:\\n\", arr)\n",
    "\n",
    "# 产生一个乱序数组\n",
    "arr_permuted = np.random.permutation(arr)\n",
    "print(\"Permuted array:\\n\", arr_permuted)"
   ]
  },
  {
   "cell_type": "code",
   "execution_count": 7,
   "metadata": {},
   "outputs": [
    {
     "name": "stdout",
     "output_type": "stream",
     "text": [
      "Original array:\n",
      " [0 1 2 3 4]\n",
      "Random samples with replacement:\n",
      " [0 4 2]\n"
     ]
    }
   ],
   "source": [
    "# 创建一个数组\n",
    "arr = np.arange(5)\n",
    "print(\"Original array:\\n\", arr)\n",
    "\n",
    "# 从arr中随机抽取3个元素,允许重复抽取\n",
    "samples = np.random.choice(arr, 3, replace=True)\n",
    "print(\"Random samples with replacement:\\n\", samples)"
   ]
  },
  {
   "cell_type": "code",
   "execution_count": 8,
   "metadata": {},
   "outputs": [
    {
     "name": "stdout",
     "output_type": "stream",
     "text": [
      "Uniformly distributed array:\n",
      " [[4.77665117 8.12168729]\n",
      " [4.79977172 3.92784796]\n",
      " [8.36078764 3.3739616 ]]\n"
     ]
    }
   ],
   "source": [
    "import numpy as np\n",
    "\n",
    "# 生成一个形状为 (3, 2) 的,范围在 [0, 10) 的均匀分布数组\n",
    "array_uniform = np.random.uniform(low=0, high=10, size=(3, 2))\n",
    "print(\"Uniformly distributed array:\\n\", array_uniform)"
   ]
  },
  {
   "cell_type": "code",
   "execution_count": 9,
   "metadata": {},
   "outputs": [
    {
     "name": "stdout",
     "output_type": "stream",
     "text": [
      "Poisson distributed array:\n",
      " [[7 6]\n",
      " [3 3]\n",
      " [7 4]]\n"
     ]
    }
   ],
   "source": [
    "# 生成一个形状为 (3, 2) 的,事件发生率为 5 的泊松分布数组\n",
    "array_poisson = np.random.poisson(lam=5, size=(3, 2))\n",
    "print(\"Poisson distributed array:\\n\", array_poisson)"
   ]
  },
  {
   "cell_type": "markdown",
   "metadata": {},
   "source": [
    "### NumPy 统计函数\n",
    "\n",
    "以下是一些常用的 NumPy 统计函数及其说明:\n",
    "\n",
    "| 函数                                  | 说明                                                |\n",
    "| ------------------------------------- | --------------------------------------------------- |\n",
    "| `sum(a, axis=None)`                   | 根据给定轴 `axis` 计算数组 `a` 相关元素之和         |\n",
    "| `mean(a, axis=None)`                  | 根据给定轴 `axis` 计算数组 `a` 相关元素的期望       |\n",
    "| `average(a, axis=None, weights=None)` | 根据给定轴 `axis` 计算数组 `a` 相关元素的加权平均值 |\n",
    "| `std(a, axis=None)`                   | 根据给定轴 `axis` 计算数组 `a` 相关元素的标准差     |\n",
    "| `var(a, axis=None)`                   | 根据给定轴 `axis` 计算数组 `a` 相关元素的方差       |\n",
    "| `min(a)` `max(a)`                     | 计算数组 `a` 中元素的最小值,最大值                  |\n",
    "| `argmin(a)` `argmax(a)`               | 计算数组 `a` 中元素最小值,最大值的降一维后下标      |\n",
    "| `unravel_index(index, shape)`         | 根据 `shape` 将一维下标 `index` 转换成多维下标      |\n",
    "| `ptp(a)`                              | 计算数组 `a` 中元素最大值与最小值的差               |\n",
    "| `median(a)`                           | 计算数组 `a` 中元素的中位数(中值)                   |\n",
    "\n",
    "这些函数可以方便地对数据进行基本的统计分析,如求和,求平均,求标准差等.\n"
   ]
  },
  {
   "cell_type": "code",
   "execution_count": 2,
   "metadata": {},
   "outputs": [
    {
     "name": "stdout",
     "output_type": "stream",
     "text": [
      "Total sum of array: 10\n"
     ]
    }
   ],
   "source": [
    "# 使用 sum 计算数组的总和\n",
    "import numpy as np\n",
    "\n",
    "a = np.array([[1, 2], [3, 4]])\n",
    "total_sum = np.sum(a)\n",
    "print(\"Total sum of array:\", total_sum)"
   ]
  },
  {
   "cell_type": "code",
   "execution_count": 11,
   "metadata": {},
   "outputs": [
    {
     "name": "stdout",
     "output_type": "stream",
     "text": [
      "Mean value of array: 2.5\n"
     ]
    }
   ],
   "source": [
    "# 使用 mean 计算数组的平均值\n",
    "mean_value = np.mean(a)\n",
    "print(\"Mean value of array:\", mean_value)"
   ]
  },
  {
   "cell_type": "code",
   "execution_count": 7,
   "metadata": {},
   "outputs": [
    {
     "name": "stdout",
     "output_type": "stream",
     "text": [
      "Average value of array with weights: [2. 3.]\n"
     ]
    }
   ],
   "source": [
    "#  使用 average 计算数组的加权平均值\n",
    "weights = np.array([0.5, 0.5])\n",
    "average_value = np.average(a, axis=0, weights=weights)\n",
    "print(\"Average value of array with weights:\", average_value)"
   ]
  },
  {
   "cell_type": "code",
   "execution_count": 4,
   "metadata": {},
   "outputs": [
    {
     "name": "stdout",
     "output_type": "stream",
     "text": [
      "Standard deviation of array: 1.118033988749895\n"
     ]
    }
   ],
   "source": [
    "# 使用 std 计算数组的标准差\n",
    "std_deviation = np.std(a)\n",
    "print(\"Standard deviation of array:\", std_deviation)"
   ]
  },
  {
   "cell_type": "code",
   "execution_count": 8,
   "metadata": {},
   "outputs": [
    {
     "name": "stdout",
     "output_type": "stream",
     "text": [
      "Standard deviation of array: 1.118033988749895\n"
     ]
    }
   ],
   "source": [
    "# 使用 var 计算数组的方差\n",
    "std_deviation = np.std(a)\n",
    "print(\"Standard deviation of array:\", std_deviation)"
   ]
  },
  {
   "cell_type": "code",
   "execution_count": 9,
   "metadata": {},
   "outputs": [
    {
     "name": "stdout",
     "output_type": "stream",
     "text": [
      "Minimum value of array: 1\n",
      "Maximum value of array: 4\n"
     ]
    }
   ],
   "source": [
    "# 使用 min 和 max 获取数组中的最小值和最大值\n",
    "min_value = np.min(a)\n",
    "max_value = np.max(a)\n",
    "print(\"Minimum value of array:\", min_value)\n",
    "print(\"Maximum value of array:\", max_value)"
   ]
  },
  {
   "cell_type": "code",
   "execution_count": 10,
   "metadata": {},
   "outputs": [
    {
     "name": "stdout",
     "output_type": "stream",
     "text": [
      "Index of minimum value: 0\n",
      "Index of maximum value: 3\n"
     ]
    }
   ],
   "source": [
    "# 使用 argmin 和 argmax 获取最小值和最大值的索引\n",
    "min_index = np.argmin(a)\n",
    "max_index = np.argmax(a)\n",
    "print(\"Index of minimum value:\", min_index)\n",
    "print(\"Index of maximum value:\", max_index)"
   ]
  },
  {
   "cell_type": "code",
   "execution_count": 12,
   "metadata": {},
   "outputs": [
    {
     "name": "stdout",
     "output_type": "stream",
     "text": [
      "Multi-dimensional index: (1, 1)\n"
     ]
    }
   ],
   "source": [
    "# 使用 unravel_index 转换一维索引到多维索引\n",
    "index = 3\n",
    "shape = (2, 2)\n",
    "multi_index = np.unravel_index(index, shape)\n",
    "print(\"Multi-dimensional index:\", multi_index)"
   ]
  },
  {
   "cell_type": "code",
   "execution_count": 11,
   "metadata": {},
   "outputs": [
    {
     "name": "stdout",
     "output_type": "stream",
     "text": [
      "Peak to peak value of array: 3\n"
     ]
    }
   ],
   "source": [
    "# 使用 ptp 计算最大值和最小值之间的差\n",
    "peak_to_peak = np.ptp(a)\n",
    "print(\"Peak to peak value of array:\", peak_to_peak)"
   ]
  },
  {
   "cell_type": "code",
   "execution_count": 13,
   "metadata": {},
   "outputs": [
    {
     "name": "stdout",
     "output_type": "stream",
     "text": [
      "Median value of array: 2.5\n"
     ]
    }
   ],
   "source": [
    "# 使用 median 计算数组的中位数\n",
    "median_value = np.median(a)\n",
    "print(\"Median value of array:\", median_value)"
   ]
  },
  {
   "cell_type": "markdown",
   "metadata": {},
   "source": [
    "### numpy 的梯度函数\n",
    "\n",
    "### 数组的梯度 - NumPy 函数\n",
    "\n",
    "NumPy 提供了计算数组元素梯度的函数.以下是函数及其说明:\n",
    "\n",
    "| 函数             | 说明                                                                                       |\n",
    "| ---------------- | ------------------------------------------------------------------------------------------ |\n",
    "| `np.gradient(f)` | 计算数组 `f` 中元素的梯度.当数组是多维时,返回每个维度的梯度.                               |\n",
    "|                  | 梯度:连续值之间的变化率,即斜率.在 XY 坐标轴上,连续三个 x 坐标对应的 Y 轴值为 a, b, c,其中, |\n",
    "|                  | b 的梯度是:`(c-a)/2`.                                                                      |\n",
    "\n",
    "使用 `np.gradient(f)` 函数可以方便地求解数值数据的梯度,这在数据分析和科学计算中非常有用.\n"
   ]
  },
  {
   "cell_type": "code",
   "execution_count": 14,
   "metadata": {},
   "outputs": [
    {
     "name": "stdout",
     "output_type": "stream",
     "text": [
      "Array: [ 1  2  4  7 11 16]\n",
      "Gradient: [1.  1.5 2.5 3.5 4.5 5. ]\n"
     ]
    }
   ],
   "source": [
    "# 计算一维数组的梯度\n",
    "import numpy as np\n",
    "\n",
    "# 创建一个一维数组\n",
    "f = np.array([1, 2, 4, 7, 11, 16])\n",
    "\n",
    "# 计算梯度\n",
    "grad = np.gradient(f)\n",
    "\n",
    "print(\"Array:\", f)\n",
    "print(\"Gradient:\", grad)"
   ]
  },
  {
   "cell_type": "code",
   "execution_count": 15,
   "metadata": {},
   "outputs": [
    {
     "name": "stdout",
     "output_type": "stream",
     "text": [
      "Array:\n",
      " [[1 2 6]\n",
      " [3 4 8]]\n",
      "Gradient along axis 0:\n",
      " [[2. 2. 2.]\n",
      " [2. 2. 2.]]\n",
      "Gradient along axis 1:\n",
      " [[1.  2.5 4. ]\n",
      " [1.  2.5 4. ]]\n"
     ]
    }
   ],
   "source": [
    "# 计算多维数组的梯度\n",
    "# 创建一个二维数组\n",
    "f = np.array([[1, 2, 6], [3, 4, 8]])\n",
    "\n",
    "# 计算梯度\n",
    "grad = np.gradient(f)\n",
    "\n",
    "print(\"Array:\\n\", f)\n",
    "print(\"Gradient along axis 0:\\n\", grad[0])  # y方向的梯度\n",
    "print(\"Gradient along axis 1:\\n\", grad[1])  # x方向的梯度"
   ]
  },
  {
   "cell_type": "markdown",
   "metadata": {},
   "source": [
    "### 单元小结\n",
    "\n",
    "#### NumPy 数据存取和函数使用\n",
    "\n",
    "#### 数据存取\n",
    "\n",
    "#### CSV 文件\n",
    "\n",
    "- `np.loadtxt()`:从文本文件加载数据\n",
    "- `np.savetxt()`:将数组写入文本文件\n",
    "\n",
    "#### 多维数据存取\n",
    "\n",
    "- `a.tofile()`:将数组数据写入文件\n",
    "- `np.fromfile()`:从文件读取数组数据\n",
    "- `np.save()`:保存数组到`.npy`格式的二进制文件\n",
    "- `np.savez()`:保存多个数组到一个`.npz`格式的压缩文件\n",
    "- `np.load()`:从`.npy`或`.npz`文件加载数组数据\n",
    "\n",
    "#### 随机函数\n",
    "\n",
    "- `np.random.rand()`:生成[0, 1)之间的均匀分布随机数\n",
    "- `np.random.randn()`:生成标准正态分布随机数\n",
    "- `np.random.randint()`:生成给定上下限范围的随机整数\n",
    "- `np.random.seed()`:设置随机数生成器的种子\n",
    "- `np.random.shuffle()`:对数组进行随机排列\n",
    "- `np.random.permutation()`:返回一个随机排列\n",
    "- `np.random.choice()`:从给定的一维数组中随机抽取元素\n",
    "\n",
    "#### NumPy 统计函数\n",
    "\n",
    "- `np.sum()`:计算数组元素的总和\n",
    "- `np.min()`:计算数组元素的最小值\n",
    "- `np.mean()`:计算数组元素的算术平均值\n",
    "- `np.max()`:计算数组元素的最大值\n",
    "- `np.average()`:计算数组元素的加权平均\n",
    "- `np.argmin()`:返回数组元素最小值的索引\n",
    "- `np.std()`:计算数组元素的标准差\n",
    "- `np.argmax()`:返回数组元素最大值的索引\n",
    "- `np.var()`:计算数组元素的方差\n",
    "- `np.unravel_index()`:将一维索引转换成多维索引\n",
    "- `np.median()`:计算数组元素的中位数\n",
    "- `np.ptp()`:计算数组元素的范围(最大值 - 最小值)\n",
    "\n",
    "#### NumPy 梯度函数\n",
    "\n",
    "- `np.gradient()`:计算数组中元素的梯度\n"
   ]
  },
  {
   "cell_type": "markdown",
   "metadata": {},
   "source": [
    "## 示例 1: 图像的手绘效果\n",
    "\n",
    "### 图像的 RGB 色彩模式\n",
    "\n",
    "- 图像通常使用 RGB 色彩模式,即每个像素点的颜色由红(R),绿(G),蓝(B)三种颜色组成.\n",
    "- RGB 三个颜色通道的变化和叠加可以生成各种颜色,具体如下:\n",
    "  - R(红色):取值范围为 0-255\n",
    "  - G(绿色):取值范围为 0-255\n",
    "  - B(蓝色):取值范围为 0-255\n",
    "- RGB 形成的颜色覆盖了人类视力所能感知的所有颜色.\n",
    "\n",
    "### PIL 库\n",
    "\n",
    "- PIL (Python Image Library) 是一个具有强大图像处理能力的第三方库.\n",
    "- 在命令行下安装 PIL 库的方法是:`pip install pillow`\n",
    "- `Image` 是 PIL 库中代表一个图像的类(对象).图像可以视为一个三维数组,其维度分别对应高度,宽度和像素的 RGB 值.\n",
    "\n",
    "### 手绘效果的特征\n",
    "\n",
    "- 颜色主要为黑,白,灰.\n",
    "- 边界线条较为突出.\n",
    "- 相同或相近的色彩趋向于白色.\n",
    "- 略带光源效果.\n"
   ]
  },
  {
   "cell_type": "markdown",
   "metadata": {},
   "source": [
    "## 梯度的重构\n",
    "\n",
    "通过利用像素间的梯度值和虚拟深度值,我们可以对图像进行重构.这一过程主要包括以下几个步骤:\n",
    "\n",
    "1. **梯度计算**:\n",
    "\n",
    "   - 利用 NumPy 库的 `gradient` 函数计算图像数组的梯度.\n",
    "   - `np.gradient(a)` 可以得到数组 `a` 的梯度,其中 `a` 代表图像的灰度值矩阵.\n",
    "\n",
    "2. **梯度分解**:\n",
    "\n",
    "   - 将得到的梯度分解为 x 方向和 y 方向的梯度值:`grad_x, grad_y = grad`.\n",
    "\n",
    "3. **梯度调整**:\n",
    "   - 根据灰度变化来模拟人类视觉的明暗程度.\n",
    "   - 预设深度值 `depth = 10`,取值范围为 0-100.\n",
    "   - 根据深度值调整 x 和 y 方向的梯度值:\n",
    "     - `grad_x = grad_x * depth / 10e.`\n",
    "     - `grad_y = grad_y * depth / 10e.`\n",
    "\n",
    "通过上述步骤,我们可以根据像素之间的梯度差异以及预设的虚拟深度值来重构图像,从而模拟出类似手绘的视觉效果.\n"
   ]
  },
  {
   "cell_type": "code",
   "execution_count": null,
   "metadata": {},
   "outputs": [],
   "source": [
    "# import numpy as np\n",
    "\n",
    "# # Assume 'a' is your input grayscale image.\n",
    "# a = # ... your image data ...\n",
    "\n",
    "# # Predefined depth value.\n",
    "# depth = 10.  # The depth value, can range from 0 to 100.\n",
    "\n",
    "# # Calculate the gradients in the x and y directions.\n",
    "# grad = np.gradient(a)\n",
    "# grad_x, grad_y = grad\n",
    "\n",
    "# # Adjust the gradient values based on the depth.\n",
    "# grad_x = grad_x * depth / 10.\n",
    "# grad_y = grad_y * depth / 10.\n",
    "\n",
    "# # Further processing can be done here depending on what you want to achieve with the gradients.\n",
    "# # For example, you might want to combine these gradients in some way to form a new image."
   ]
  },
  {
   "attachments": {
    "image.png": {
     "image/png": "[encoded data removed]"
    }
   },
   "cell_type": "markdown",
   "metadata": {},
   "source": [
    "## 根据灰度变化模拟人类视觉的远近程度\n",
    "\n",
    "通过考虑灰度变化,我们可以模拟人类视觉对远近的感知.此外,通过设计一个位于图像斜上方的虚拟光源,我们可以进一步增强这种视觉效果.以下是设计和实现这一效果的步骤:\n",
    "![image.png](attachment:image.png)\n",
    "\n",
    "1. **虚拟光源的设置**:\n",
    "\n",
    "   - 设计一个位于图像斜上方的虚拟光源.\n",
    "   - 光源的位置由两个角度参数确定:\n",
    "     - `Elevation`:光源相对于图像的俯视角度.\n",
    "     - `Azimuth`:光源的方位角度.\n",
    "\n",
    "2. **建立光源影响函数**:\n",
    "\n",
    "   - 建立一个函数来描述光源对图像中各点的梯度值的影响.\n",
    "   - 这个函数将考虑光源的方位,灰度梯度,以及光线与图像平面的相对位置.\n",
    "\n",
    "3. **计算新的像素值**:\n",
    "   - 利用光源影响函数,结合图像的原始灰度值和梯度信息,计算出每个像素点受光照影响后的新像素值.\n",
    "   - 这一步骤将生成具有明暗变化和深度感的图像,类似于有光源照射下的手绘画效果.\n",
    "\n",
    "通过这些步骤,我们可以实现一个较为真实的视觉效果,使图像看起来像是在特定光照条件下观察到的,从而增加图像的立体感和深度感.\n"
   ]
  },
  {
   "cell_type": "code",
   "execution_count": null,
   "metadata": {},
   "outputs": [],
   "source": [
    "# # np.cos(vec_el)为单位光线在地平面上的投影长度\n",
    "# vec_el = np.pi / 2.2\n",
    "# vec_az = np.pi / 4.0\n",
    "# # dx，dy，dz是光源对x/y/z三方向的影响程度\n",
    "# dx = np.cos(vec_el) * np.cos(vec_az)\n",
    "# dy = np.cos(vec_el) * np.sin(vec_az)\n",
    "# dz = np.sin(vec_el)"
   ]
  },
  {
   "cell_type": "code",
   "execution_count": null,
   "metadata": {},
   "outputs": [],
   "source": [
    "# # 梯度归一化\n",
    "# # 构造x和y轴梯度的三维归一化单位坐标系\n",
    "# A = np.sqrt(grad_×**2 + grad_y**2 + 1.)\n",
    "# uni_x = grad_x/A\n",
    "# uni_y = grad_y/A\n",
    "# uni_z = 1./A\n",
    "# b = 255*(dx*uni_x + dy*uni_y + dz*uni_z)\n",
    "# # 梯度与光源相互作用，将梯度转化为灰度\n"
   ]
  },
  {
   "cell_type": "code",
   "execution_count": null,
   "metadata": {},
   "outputs": [],
   "source": [
    "# # 图像生成\n",
    "# # 为避免数据越界，将生成的灰度值裁剪至0-255区间\n",
    "# b = b.clip(e,255)\n",
    "# im = Image.fromarray(b.astype('uint8'))\n",
    "# # 生成图像\n",
    "# im.save(./beijingHD.jpg')"
   ]
  }
 ],
 "metadata": {
  "kernelspec": {
   "display_name": "base",
   "language": "python",
   "name": "python3"
  },
  "language_info": {
   "codemirror_mode": {
    "name": "ipython",
    "version": 3
   },
   "file_extension": ".py",
   "mimetype": "text/x-python",
   "name": "python",
   "nbconvert_exporter": "python",
   "pygments_lexer": "ipython3",
   "version": "3.11.5"
  }
 },
 "nbformat": 4,
 "nbformat_minor": 2
}
